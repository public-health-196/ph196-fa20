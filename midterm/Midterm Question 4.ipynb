{
 "cells": [
  {
   "cell_type": "markdown",
   "metadata": {},
   "source": [
    "## PH 196 Midterm - Fall 2020\n",
    "\n",
    "### Do not forget to download this notebook (as you have the homeworks) and upload it to Gradescope with your midterm booklet\n",
    "\n",
    "### Question 4\n",
    "\n",
    "Your startup has burnt through all of its venture funding paying 5 doctors in a hospital to interpret a set of mammograms for very high risk patients, specifically whether they believe cancer is present. Your CEO and co-founder asks you, the Chief Prediction-Not-Causation Officer (CPNCO), to use this data to produce a model that predicts cancer based on a mammogram. You try to tell her we don’t see the truth (cancer), just want the doctors think; she tells you “Just do whatever Google would do.” Following the Google team's approach in the diabetic retinopathy paper you read for this class, you decide to use the majority vote as the \"true\" cancer label.\n",
    "\n",
    "**Part (a)** What theory could your CEO invoke to justify this approach to the truth?\n",
    "\n",
    "<font color='blue'>Answer in your midterm booklet</font>\n",
    "\n",
    "The DataFrame `df` contains the doctors’ individual votes for 500 mammograms and their majority vote. "
   ]
  },
  {
   "cell_type": "code",
   "execution_count": null,
   "metadata": {
    "scrolled": true
   },
   "outputs": [],
   "source": [
    "import pandas as pd\n",
    "import numpy as np\n",
    "import matplotlib.pyplot as plt\n",
    "\n",
    "df = pd.read_csv(\"votes.csv\")\n",
    "df.head()"
   ]
  },
  {
   "cell_type": "markdown",
   "metadata": {},
   "source": [
    "**Part (b)** For each doctor, calculate their false positive rate and true positive rate, and plot these on a graph with FPR on the x axis and TPR on the y axis."
   ]
  },
  {
   "cell_type": "code",
   "execution_count": null,
   "metadata": {},
   "outputs": [],
   "source": [
    "drs = [\"DrA\", \"DrB\", \"DrC\", \"DrD\", \"DrE\"]\n",
    "fprs = []\n",
    "tprs = []\n",
    "for dr in drs:\n",
    "    fprs.append(...)\n",
    "    tprs.append(...)\n",
    "    \n",
    "plt.scatter(...,...)\n",
    "# This code will label your points with the doctors names\n",
    "for i, dr in enumerate(drs):\n",
    "    plt.annotate(dr, # this is the text\n",
    "            (fprs[i], tprs[i]), # this is the point to label\n",
    "            textcoords=\"offset points\", # how to position the text\n",
    "            xytext=(15,0), # distance from text to points (x,y)\n",
    "            ha='center') "
   ]
  },
  {
   "cell_type": "markdown",
   "metadata": {},
   "source": [
    "**Part (c)** According to your plot, who is the best doctor? If you were unable to produce a plot in the previous part, explain how you would choose the best doctor from a plot of their FPR vs. TPR.\n",
    "\n",
    "<font color='blue'>Answer in your midterm booklet</font>\n",
    "\n",
    "**Part (d)** Your CEO looks at the graph you made and says “Whoa it looks like one of those doctors is better than the others -- Why can’t you just train the algorithm on the best doctor instead of whatever you did?”\n",
    "\n",
    "<font color='blue'>Answer in your midterm booklet</font>\n",
    "\n",
    "You’re worried about this whole situation. Invoking your prerogative as the company’s CPNCO, you spend the last few thousand dollars of funding to acquire one last piece of data: biopsy results, for a subset of patients. If the doctors decide that there is cancer present based on the mammogram (majority vote = 1), the patient is referred for a biopsy to confirm or reject the diagnosis (though some patients don’t show up). The dataset also contains a `location` variable that indexes whether the patient lives in a suburban/urban area (`location = 0`) vs a rural area (`location = 1`).  \n",
    "\n",
    "The DataFrame `df1` contains the original data *plus* the two new variables: `location` and `biopsy`."
   ]
  },
  {
   "cell_type": "code",
   "execution_count": null,
   "metadata": {},
   "outputs": [],
   "source": [
    "df1 = pd.read_csv(\"biopsies.csv\")\n",
    "df1.head()"
   ]
  },
  {
   "cell_type": "markdown",
   "metadata": {},
   "source": [
    "Your CEO, after freaking out that you spent the last of the cash on “more stupid data”, is coming around once she sees these new results. She tells you to just train an algorithm to predict biopsy results directly, rather than trying to find some aggregation of doctors’ votes. You tell her, “Unfortunately, the sample size is only the 272 people who have had biopsies - so it’s too small to train an algorithm on.” She tells you “I don’t know why I need to tell my CPNCO this, but duh, sample size is 500 -- just set the missing values to zero. It’s just random error”. \n",
    "\n",
    "**Part (e)** What could go wrong with this approach, theoretically? How could you show this in a compelling way, with your data? **In the cell below:** Create a figure or compute statistic(s) that illustrates a disparity in your data that causes non-random measurement error. **In your booklet:** Explain your findings.\n",
    "\n",
    "<font color='blue'>Write code below to compute a figure or statistic and explain your answer in your midterm booklet</font>\n",
    "\n",
    "*Hint:* We want you to come up with your own approach, so there is no starter code. You might find the `isna()` function helpful. Remember the exam is open internet, so you may look up the pandas documentation for help. Please cite any sources you use.\n",
    "\n",
    "*Note:* If you have an idea but you can't figure out how to implement it in code, you can write pseudocode that describes what you'd like to do for possible partial credit."
   ]
  },
  {
   "cell_type": "code",
   "execution_count": null,
   "metadata": {},
   "outputs": [],
   "source": [
    "# You should write code in this cell\n",
    "# Hint: our solution uses: df1[\"biopsy\"].isna() (along with other code)\n",
    "#       but we encourage you to come up with whatever approach you think\n",
    "#       best illustrates your point!"
   ]
  },
  {
   "cell_type": "markdown",
   "metadata": {},
   "source": [
    "You come up with a brilliant solution to this problem: collect even more data. You sell the company’s second most prized asset (after the data), the office’s espresso machine, to acquire cancer registry data. This gives you information on metastatic cancer diagnoses - people who get diagnosed late (exactly the kind of cancers that mammograms are supposed to prevent, by catching them before they spread).\n",
    "\n",
    "The DataFrame `df2` contains the data from `df1` plus the new `metastatic` variable."
   ]
  },
  {
   "cell_type": "code",
   "execution_count": null,
   "metadata": {},
   "outputs": [],
   "source": [
    "df2 = pd.read_csv(\"metastatic.csv\")\n",
    "df2.head()"
   ]
  },
  {
   "cell_type": "markdown",
   "metadata": {},
   "source": [
    "**Part (f)** Create a composite variable that is 1 if either the patient had a positive biopsy result or metastatic cancer, and 0 otherwise. Make a plot with number of doctors’ positive votes on the x-axis and percentage of patients with a positive composite cancer variable on the y-axis. How would you change your vote aggregation rule in light of your results?\n",
    "\n",
    "*Hint:* For creating your composite variable, try the `np.logical_or()` function. We've given you some starter code to fill in to calculate the proportion of positive cases for each number of votes."
   ]
  },
  {
   "cell_type": "code",
   "execution_count": null,
   "metadata": {},
   "outputs": [],
   "source": [
    "df2['cancer'] = ... # Create a composite variable\n",
    "df2['num_votes'] = ... # Count the total number of votes for each decision\n",
    "prop_by_votes = df2.groupby(...)['...'].mean().reset_index() # Figure out what variables you should \n",
    "                                                            # replace ... with to calculate the data for plotting\n",
    "\n",
    "plt.bar(..., ...)\n",
    "plt.xlabel(\"Number of votes\"),\n",
    "plt.ylabel(\"Proportion with cancer present\")\n",
    "plt.title(\"Number of doctors' votes versus percentage of cases where cancer was present\")"
   ]
  },
  {
   "cell_type": "markdown",
   "metadata": {},
   "source": [
    "**Part (g)** How could you change the way you aggregate the individual doctors’ votes in order to increase the sensitivity of your label compared to the biopsy ‘ground truth’?  \n",
    "\n",
    "<font color='blue'>Answer in your midterm booklet</font>\n",
    "\n",
    "**Part (h)** The data you used for this problem is not actually doctors’ votes on mammograms. It is the votes of five US Supreme Court justices on cases between 1999-2009. Does this change how you feel about using majority vote as a proxy for the ground truth?\n",
    "\n",
    "<font color='blue'>Answer in your midterm booklet</font>\n",
    "\n",
    "\n",
    "**Part (i)** Bonus question (+1): can you think of any ground truth measures for whether a Supreme Court decision is “right” or “wrong”?\n",
    "\n",
    "<font color='blue'>Answer in your midterm booklet</font>\n",
    "\n",
    "\n",
    "### Do not forget to download this notebook (as you have the homeworks) and upload it to Gradescope with your midterm booklet"
   ]
  }
 ],
 "metadata": {
  "kernelspec": {
   "display_name": "Python 3",
   "language": "python",
   "name": "python3"
  },
  "language_info": {
   "codemirror_mode": {
    "name": "ipython",
    "version": 3
   },
   "file_extension": ".py",
   "mimetype": "text/x-python",
   "name": "python",
   "nbconvert_exporter": "python",
   "pygments_lexer": "ipython3",
   "version": "3.8.5"
  }
 },
 "nbformat": 4,
 "nbformat_minor": 4
}
