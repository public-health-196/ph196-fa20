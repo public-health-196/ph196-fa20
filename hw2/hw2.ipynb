{
 "cells": [
  {
   "cell_type": "markdown",
   "metadata": {},
   "source": [
    "# PH 196 Homework 2\n",
    "\n",
    "Welcome to Homework 2!\n",
    "\n",
    "The goal of this homework will be to analyze a paper and attempt to replicate the paper's model and findings. We'll be looking at **Prediction of Lifetime Risk for Cardiovascular Disease by Risk Factor Burden at 50 Years of Age**, which you can find [here](https://www.ahajournals.org/doi/full/10.1161/CIRCULATIONAHA.105.548206?url_ver=Z39.88-2003&rfr_id=ori:rid:crossref.org&rfr_dat=cr_pub\\%3dpubmed). The assignment will be broken down into two parts: 1) first, we'll be analyzing the paper's approach and methods, then 2) we'll attempt to replicate the findings. You are encouraged to complete all of the questions within the notebook, but if you would like to answer the written questions separately that is fine as long as you **submit all of your responses on Gradescope as 1 PDF and tag the pages appropriately**.\n",
    "\n",
    "This Homework is due **December 2, 2020 at 11:59pm PT**. Remember you have four slip days over the semester with a maximum of two per homework. If you need an extension for any reason, please reach out (no need to explain any personal details). Submission instructions are the same as for the previous homeworks and details are at the end of the notebook.\n",
    "\n",
    "Remember, you're encouraged to work with other students in the class, but please list all of the other students you worked with here:\n",
    "\n",
    "* <*Other students you worked with*>\n",
    "\n",
    "Please come to office hours and post your questions on Piazza when you need help, remembering to make it private if you are posting code! You can also refer to our classwide [resource sheet](https://piazza.com/class/ke4s2oyrb3z6wa?cid=7) for more help."
   ]
  },
  {
   "cell_type": "markdown",
   "metadata": {},
   "source": [
    "## Part 1: Written questions\n",
    "\n",
    "**Question 1. Getting a grasp**\n",
    "\n",
    "**(a)** What is the objective of the paper? In other words, if the paper is unequivocally successful, what do the authors hope to change about the world?\n",
    "\n",
    "<font color='blue'>Double click this cell to write your answers.</font>\n",
    "    \n",
    "**(b)** In order to get to that end goal, what variable in the dataset are the authors trying to predict--that is, which variable is the label? Write out the variable name and what it stands for. *Hint: You'll have to look through the [framdoc.pdf](https://datahub.berkeley.edu/hub/user-redirect/git-pull?repo=https%3A%2F%2Fgithub.com%2Fpublic-health-196%2Fph196-fa20&urlpath=tree%2Fph196-fa20%2Fhw2%2Fframdoc.pdf&branch=master) documentation.*\n",
    "\n",
    "<font color='blue'>Double click this cell to write your answers.</font>\n",
    "    \n",
    "**(c)** Does the variable you chose in part b) encompass the entirety of CVD events as defined by the paper? What is it missing or what does it include that it shouldn't?\n",
    "\n",
    "<font color='blue'>Double click this cell to write your answers.</font>\n",
    "    \n",
    "**(d)** What are some potential biases that could affect the relevance of the label to the paper's true objective?\n",
    "\n",
    "<font color='blue'>Double click this cell to write your answers.</font>\n",
    "    \n",
    "**(e)** What are some potential biases in the X's of the model? Identify at least 2.\n",
    "\n",
    "<font color='blue'>Double click this cell to write your answers.</font>"
   ]
  },
  {
   "cell_type": "markdown",
   "metadata": {},
   "source": [
    "**Question 2. Writing it out**\n",
    "\n",
    "**(a)** Some patients are on anti-hypertensive medication. We will think of the treatment as $T = {0,1}$. As we learned in lecture, when both treatment statuses are present in our dataset, we have to think about treatment pollution. Is this the case in our dataset? Write out the types of patient observations that are present in our dataset using conditional expectation notation and potential outcomes notation. *Hint: This should be at most two terms.*\n",
    "    \n",
    "<font color='blue'>Double click this cell to write your answers.</font>\n",
    "\n",
    "**(b)** In our prediction task, given a patient's health $X_i$, what we're really trying to predict is the *untreated outcome of patient $i$*. Using conditional expectation notation and potential outcomes notation, write out this term.\n",
    "\n",
    "<font color='blue'>Double click this cell to write your answers.</font>\n",
    "    \n",
    "**(c)** Suppose, instead, that you want to predict which patients would respond well to treatment. Write out the ideal quantity we would like to predict for individual $i$ using potential outcomes notation. *Hint: This should be at most two terms.*\n",
    "\n",
    "<font color='blue'>Double click this cell to write your answers.</font>"
   ]
  },
  {
   "cell_type": "markdown",
   "metadata": {},
   "source": [
    "**Question 3. Preparing for analysis**\n",
    "\n",
    "*Note: All the questions in this section should be answered in at most one sentence.*\n",
    "\n",
    "**(a)** Before we start doing any analysis on our data, we have to perform data cleaning to make sure it is of the proper type and that we deal with missing values appropriately. What is one reason we have to think carefully about how we handle missing data?\n",
    "    \n",
    "<font color='blue'>Double click this cell to write your answers.</font>\n",
    "    \n",
    "**(b)** Before training our model, we have to make sure we have some data to measure the performance of our model. How might we do this?\n",
    "    \n",
    "<font color='blue'>Double click this cell to write your answers.</font>\n",
    "    \n",
    "**(c)** We fit a model on our training data using regularization (e.g. ridge regression). How should we decide on a regularization parameter?\n",
    "    \n",
    "<font color='blue'>Double click this cell to write your answers.</font>"
   ]
  },
  {
   "cell_type": "markdown",
   "metadata": {},
   "source": [
    "## Part 2: Coding questions\n",
    "\n",
    "In this section we will use the Framingham dataset to fit a model similar to the one they fit in the paper. For this homework, we're giving you a dataset with only one observation for each patient so that we're only making one prediction per patient.\n",
    "\n",
    "Let's import necessary libraries and the familiar Framingham dataset:"
   ]
  },
  {
   "cell_type": "code",
   "execution_count": null,
   "metadata": {},
   "outputs": [],
   "source": [
    "import numpy as np\n",
    "import pandas as pd\n",
    "import matplotlib.pyplot as plt\n",
    "%matplotlib inline\n",
    "import random\n",
    "random.seed(196)\n",
    "\n",
    "# Initialize OK\n",
    "from client.api.notebook import Notebook\n",
    "ok = Notebook('hw2.ok')"
   ]
  },
  {
   "cell_type": "code",
   "execution_count": null,
   "metadata": {},
   "outputs": [],
   "source": [
    "fr_raw = pd.read_csv(\"framingham_small.csv\")\n",
    "fr_raw.head()"
   ]
  },
  {
   "cell_type": "markdown",
   "metadata": {},
   "source": [
    "As a reminder, here are all of the columns present in the dataset:"
   ]
  },
  {
   "cell_type": "code",
   "execution_count": null,
   "metadata": {},
   "outputs": [],
   "source": [
    "fr_raw.columns"
   ]
  },
  {
   "cell_type": "markdown",
   "metadata": {},
   "source": [
    "## Data Cleaning"
   ]
  },
  {
   "cell_type": "markdown",
   "metadata": {},
   "source": [
    "**Question 4.** We wish to use the following features for our model:\n",
    "\n",
    "- Systolic Blood Pressure\n",
    "- Diastolic Blood Pressure\n",
    "- Total Cholesterol\n",
    "- Age *(This wasn't used in the paper, but we'll include it since it will be useful later)*\n",
    "- Diabetic (Yes/No)\n",
    "- Currently smoking cigarettes (Yes/No)\n",
    "- Use of Anti-hypertensive medication (Yes/No)\n",
    "\n",
    "The label we will be predicting is the `ANYCHD` column. Since all of these values are important, we should drop any rows from `fr_raw` that have missing values in at least one of these columns. Assign `fr_clean` to this new DataFrame. You may have to use the `framdoc.pdf` attached in the homework to find the correct columns to use."
   ]
  },
  {
   "cell_type": "code",
   "execution_count": null,
   "metadata": {},
   "outputs": [],
   "source": [
    "features = []\n",
    "fr_clean = ...\n",
    "fr_clean.head()"
   ]
  },
  {
   "cell_type": "code",
   "execution_count": null,
   "metadata": {},
   "outputs": [],
   "source": [
    "_ = ok.grade(\"q4\")"
   ]
  },
  {
   "cell_type": "markdown",
   "metadata": {},
   "source": [
    "**Question 5.** Next, let's clean up the data types in `fr_clean`. \n",
    "- The first four columns (`SYSBP`, `DIABP`, `TOTCHOL`, `AGE`) are imported as floats, but they are actually integer values. \n",
    "- The next four columns (`DIABETES`, `CURSMOKE`, `BPMEDS`, `ANYCHD`) are categorical variables; in fact, they are indicator variables (0 if false, 1 for true) and so we can represent this column as integer types as well.\n",
    "\n",
    "Convert the column types in `fr_clean` to integers.\n",
    "\n",
    "*Hint:* Use `.astype(...)` to convert the type of a column or DataFrame."
   ]
  },
  {
   "cell_type": "code",
   "execution_count": null,
   "metadata": {},
   "outputs": [],
   "source": [
    "fr_clean = ...\n",
    "fr_clean.head()"
   ]
  },
  {
   "cell_type": "code",
   "execution_count": null,
   "metadata": {},
   "outputs": [],
   "source": [
    "_ = ok.grade(\"q5\")"
   ]
  },
  {
   "cell_type": "markdown",
   "metadata": {},
   "source": [
    "**Question 6.** Finally, let us split the `fr_clean` DataFrame into a train and validation set. You should fill in the function `split_set` below. However, this time around, we're going to make use of the built-in `sklearn` function, [`train_test_split`](https://scikit-learn.org/stable/modules/generated/sklearn.model_selection.train_test_split.html), which takes three parameters:\n",
    "\n",
    "- The feature/predictor variables (`X=...`)\n",
    "- The label to predict (`y=...`)\n",
    "- The proportion of data to allocate to the validation set (`test_size=...`).\n",
    "\n",
    "We would like to use 80% of `fr_clean` for training and the other 20% for validation. After filling in the function `split_set`, use it to split the `fr_clean` DataFrame into training and validation sets. Assign `fr_train` and `y_train` to the training feature variables (as a DataFrame) and training labels (as a Series/array). Similarly, assign `fr_val` and `y_val` to the validation feature variables and training labels.\n",
    "\n",
    "**Important:** In order to make sure that your output matches up with the test cases, please pass `random_state = 196` as an argument to the `train_test_split()` function. The template code includes this for you."
   ]
  },
  {
   "cell_type": "code",
   "execution_count": null,
   "metadata": {},
   "outputs": [],
   "source": [
    "from sklearn.model_selection import train_test_split\n",
    "\n",
    "def split_set(df, size):\n",
    "    \"\"\" \n",
    "    df: DataFrame to split\n",
    "    size: proportion of data to allocate to validation set (same as train_test_split's test_size)\n",
    "    \"\"\"\n",
    "    ...\n",
    "    return train_test_split(..., ..., ..., random_state = 196)\n",
    "    \n",
    "fr_train, fr_val, y_train, y_val = ...\n",
    "fr_train.shape, fr_val.shape"
   ]
  },
  {
   "cell_type": "code",
   "execution_count": null,
   "metadata": {},
   "outputs": [],
   "source": [
    "_ = ok.grade(\"q6\")"
   ]
  },
  {
   "cell_type": "markdown",
   "metadata": {},
   "source": [
    "## Model Engineering"
   ]
  },
  {
   "cell_type": "markdown",
   "metadata": {},
   "source": [
    "In the last homework, we used regular linear regression for binary classification. A widely used alternative is logistic regression, a model that builds on top of linear regression. Instead of predicting in a range of continuous values, logistic regression models \"squash\" the predictions to be between 0 and 1. We can interpret these predictions as a probability $p$ of being in class 1. In this setting, we can also interpret predictions as a *risk score* for cardiovascular disease. Just like with the OLS regression model you used in homework 1, we threshold these predictions to get binary classifications. For example, you might declare a prediction of class 0 if $p < 0.5$ and class 1 if $p \\geq 0.5$. For completing this homework, you don't need to know the much about the details of logistic regression, but Data 100's textbook provides a good read if you're interested (<a href=\"https://www.textbook.ds100.org/ch/17/classification_prob.html\">Sections 17.1-17.3</a>). \n",
    "\n",
    "In terms of code, `LogisticRegression` behaves very similarly to the `LinearRegression` model you used in homework 1 (e.g. `model.fit(...)`, `model.predict(...)` all work the same). However, because logistic regression is specifically for classification, the `model.predict(...)` function will do the thresholding step for you (i.e. the output of `model.predict(...)` will be 0s and 1s).\n",
    "\n",
    "**Question 7.** Use the `LogisticRegression` class to implement the following:\n",
    "- Fill in the function `train_logistic_model` below. It takes in the training data `X_train` and `y`, and outputs a logistic regression model fitted to this data. \n",
    "- Then, using `train_logistic_model(...)`, assign `model` to a logistic regression model trained on `fr_train` and `y_train`.\n",
    "- Finally, calculate the training and validation accuracy using the values predicted by `model` and assign them to `train_acc` and `val_acc` respectively.\n",
    "\n",
    "**Correction (11/24):** Please specify the following parameters for `LogisticRegression`: `solver='lbfgs'`  and  `max_iter=200` so that your ouput for Q9 matches the autograder."
   ]
  },
  {
   "cell_type": "code",
   "execution_count": null,
   "metadata": {},
   "outputs": [],
   "source": [
    "from sklearn.linear_model import LogisticRegression\n",
    "\n",
    "def train_logistic_model(X_train, y):\n",
    "    ...\n",
    "    return model\n",
    "\n",
    "model = ...\n",
    "train_acc = ...\n",
    "val_acc = ...\n",
    "print(\"Training accuracy: {0:.5f} \\nValidation accuracy: {1:.5f}\".format(train_acc, val_acc))"
   ]
  },
  {
   "cell_type": "code",
   "execution_count": null,
   "metadata": {},
   "outputs": [],
   "source": [
    "_ = ok.grade(\"q7\")"
   ]
  },
  {
   "cell_type": "markdown",
   "metadata": {},
   "source": [
    "## Assigning treatment\n",
    "\n",
    "In this section, pretend you're working at a hospital with a limited supply of anti-hypertensive medication. Your boss has noticed that lots of people who receive the medication are still ending up with cardiovascular disease. With only a limited supply, she thinks this medication would be best reallocated to others who would benefit more. She tells you to look at the data and build a model to predict which patients would not benefit from the medication, as measured by whether they go on to have a bad outcome even though they were given the medication. To do this, you’ll fit a model of who goes on to have that bad outcome -- cardiovascular disease — among just the people who were on the medication. Those with high scores will go on to have a bad outcome. Those with the lowest risk scores are the people who would do well on medicaiton, so they are given the medication.\n",
    "\n",
    "**(Ungraded)** Before you start coding, think about what could go wrong with this approach.\n",
    "\n",
    "**Question 8.** First, we'll create our training set. From `fr_train` and `y_train`, generate a new DataFrame `fr_train_t1` and corresponding labels `y_train_t1` that contains only patients who are on anti-hypertensive medication."
   ]
  },
  {
   "cell_type": "code",
   "execution_count": null,
   "metadata": {},
   "outputs": [],
   "source": [
    "fr_train_t1 = ...\n",
    "y_train_t1 = ...\n",
    "fr_train_t1.shape, y_train_t1.shape"
   ]
  },
  {
   "cell_type": "code",
   "execution_count": null,
   "metadata": {},
   "outputs": [],
   "source": [
    "_ = ok.grade(\"q8\")"
   ]
  },
  {
   "cell_type": "markdown",
   "metadata": {},
   "source": [
    "**Question 9.** Using the `train_logistic_model` function you wrote in question 4, fit a model on `fr_train_t1` and `y_train_t1`. Assign this new model to a variable `model_t1`. Calculate the accuracy on the training data and on `fr_val` and assign the accuracies to `train_acc_t1` and `val_acc_t1`, respectively.\n",
    "\n",
    "**(Ungraded)** What do you notice about the accuracies between the treatment group and the validation set (which contains both treated and untreated patients)? Why do you think this is the case?"
   ]
  },
  {
   "cell_type": "code",
   "execution_count": null,
   "metadata": {},
   "outputs": [],
   "source": [
    "model_t1 = ...\n",
    "train_acc_t1 = ...\n",
    "val_acc_t1 = ...\n",
    "print(\"Training accuracy on treated: {0:.5f} \\nValidation accuracy: {1:.5f}\".format(train_acc_t1, val_acc_t1))"
   ]
  },
  {
   "cell_type": "code",
   "execution_count": null,
   "metadata": {},
   "outputs": [],
   "source": [
    "_ = ok.grade(\"q9\")"
   ]
  },
  {
   "cell_type": "markdown",
   "metadata": {},
   "source": [
    "**Question 10.** Next, we want to add a column `PROB` to `fr_val` containing the predicted risk scores on the validation set from `model_t1`. You can use the `predict_proba(...)` function then take the column at index 1 (try it out in a separate cell first if you're confused).\n",
    "\n",
    "*Note:* We're using `predict_proba(...)` instead of `predict(...)` because we want the raw predicted probabilities, not the classifications (0 or 1)."
   ]
  },
  {
   "cell_type": "code",
   "execution_count": null,
   "metadata": {},
   "outputs": [],
   "source": [
    "fr_val[\"PROB\"] = ..."
   ]
  },
  {
   "cell_type": "code",
   "execution_count": null,
   "metadata": {},
   "outputs": [],
   "source": [
    "_ = ok.grade(\"q10\")"
   ]
  },
  {
   "cell_type": "markdown",
   "metadata": {},
   "source": [
    "**Question 11.** Finally, we can reallocate treatments to those with the lowest risk score, or the highest probability of benefiting from the treatment (or so we think). Create two new DataFrames:\n",
    "\n",
    "* `old_treat` which contains the rows of `fr_val` corresponding to people who received treatment under the old treatment regime.\n",
    "* `new_treat` which contains the `len(old_treat)` patients in `fr_val` with the lowest risk scores. *Hint:* the function `sort_values(...)` might be helpful.\n",
    "\n",
    "*Note:* For simplicity, assume each row is an individual patient even though this is not the case."
   ]
  },
  {
   "cell_type": "code",
   "execution_count": null,
   "metadata": {},
   "outputs": [],
   "source": [
    "old_treat = ...\n",
    "new_treat = ...\n",
    "old_treat.shape, new_treat.shape"
   ]
  },
  {
   "cell_type": "code",
   "execution_count": null,
   "metadata": {},
   "outputs": [],
   "source": [
    "_ = ok.grade(\"q11\")"
   ]
  },
  {
   "cell_type": "markdown",
   "metadata": {},
   "source": [
    "**Question 12.** Use the `describe()` function to calculate summary statistics for `old_treat` and `new_treat`. Comment on what you observe. What might be an unintended negative consequence of reallocating treatment in this way?"
   ]
  },
  {
   "cell_type": "code",
   "execution_count": null,
   "metadata": {},
   "outputs": [],
   "source": [
    "# use .describe() to calculate summary statistics (you will want to use two cells for this)"
   ]
  },
  {
   "cell_type": "markdown",
   "metadata": {},
   "source": [
    "<font color='blue'>Double click this cell to write your answer.</font>"
   ]
  },
  {
   "cell_type": "markdown",
   "metadata": {},
   "source": [
    "**Question 13.** Use potential outcomes notation to explain why this approach is not ideal. Specifically, fill in the cell below to state what quantity this reallocation procedure uses to assign treatment, and compare this to the ideal quantity that you came up with in Question 2c."
   ]
  },
  {
   "cell_type": "markdown",
   "metadata": {},
   "source": [
    "<font color='blue'>Double click this cell to write your answer. Your answer should be in terms of $Y_{0,i}$ and $Y_{1,i}$.</font>"
   ]
  },
  {
   "cell_type": "markdown",
   "metadata": {},
   "source": [
    "## Submission\n",
    "Congrats, you're done with the homework! \n",
    "\n",
    "- Once you're finished, double check that you've run all of your cells and the output is showing. \n",
    "- Select \"Save and Checkpoint\" in the File menu, then go to Download as and download your notebook as PDF via LaTeX or download your notebook as HTML and then convert the HTML to PDF using a tool of your choice.\n",
    "- If you wrote any of your answers separately, make sure you merge everything into a single PDF.\n",
    "- Upload your pdf to Gradescope and tag all of the pages with the corresponding questions. If your response to a question is over multiple pages, please tag *all* of the pages with any part of your response on it. If you submit more than once before the deadline, we will only grade your final submission."
   ]
  }
 ],
 "metadata": {
  "kernelspec": {
   "display_name": "Python 3",
   "language": "python",
   "name": "python3"
  },
  "language_info": {
   "codemirror_mode": {
    "name": "ipython",
    "version": 3
   },
   "file_extension": ".py",
   "mimetype": "text/x-python",
   "name": "python",
   "nbconvert_exporter": "python",
   "pygments_lexer": "ipython3",
   "version": "3.8.5"
  }
 },
 "nbformat": 4,
 "nbformat_minor": 2
}
