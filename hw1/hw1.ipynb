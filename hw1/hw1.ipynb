{
 "cells": [
  {
   "cell_type": "markdown",
   "metadata": {},
   "source": [
    "# PH 196 Homework 1\n",
    "\n",
    "Welcome to Homework 1!\n",
    "\n",
    "Just like Homework 0, you should complete this homework entirely within this jupyter notebook.\n",
    "\n",
    "There are five problems covering topics we've learned about in class over the last few weeks. This homework is longer and more difficult that homework 0, but you also have longer to work on it (2 weeks).\n",
    "\n",
    "This Homework is due **October 5, 2020 at 11:59pm PT**. Remember you have four slip days over the semester with a maximum of two per homework. If you need an extension for any reason, please reach out (no need to explain any personal details). Submission instructions are the same as for Homework 0 and details are at the end of the notebook.\n",
    "\n",
    "Remember, you're encouraged to work with other students in the class, but please list all of the other students you worked with here:\n",
    "\n",
    "* <*Other students you worked with*>\n",
    "\n",
    "Please come to office hours and post your questions on Piazza when you need help, remembering to make it private if you are posting code! You can also refer to our classwide [resource sheet](https://piazza.com/class/ke4s2oyrb3z6wa?cid=7) for more help.\n",
    "\n",
    "Finally, since some of the problems in this assignment are brand new and we want to make sure they are as clear as possible, we're going to have a **beta-testing period of 48 hours**. If you work on the homework in the first 48 hours after it's released and provide us with *constructive feedback that we incorporate into a problem*, you will receive **1 extra credit point** on this assignment. Please send us your feedback privately on Piazza."
   ]
  },
  {
   "cell_type": "code",
   "execution_count": null,
   "metadata": {},
   "outputs": [],
   "source": [
    "# Just run this cell.\n",
    "import numpy as np\n",
    "import pandas as pd\n",
    "import matplotlib.pyplot as plt\n",
    "import random\n",
    "from pharmacy import ziadopril\n",
    "import sklearn\n",
    "\n",
    "random.seed(196)\n",
    "%matplotlib inline\n",
    "\n",
    "#Initialize OK\n",
    "from client.api.notebook import Notebook\n",
    "ok = Notebook('hw1.ok')\n",
    "\n",
    "%load_ext autoreload\n",
    "%autoreload 2"
   ]
  },
  {
   "cell_type": "markdown",
   "metadata": {},
   "source": [
    "For this homework, we provided 2000 rows sampled from the framingham dataset:"
   ]
  },
  {
   "cell_type": "code",
   "execution_count": null,
   "metadata": {},
   "outputs": [],
   "source": [
    "# Just run this cell.\n",
    "fr = pd.read_csv(\"framingham_hw1.csv\")\n",
    "print(fr.shape)\n",
    "fr.head()"
   ]
  },
  {
   "cell_type": "markdown",
   "metadata": {},
   "source": [
    "# 1 Rembrandt's Assistants\n",
    "\n",
    "Although he gets all the credit, Rembrandt didn't create his famous paintings all by himself. He had a workshop of students and assistants to help him \\[[1](https://www.nga.gov/research/online-editions/17th-century-dutch-paintings/essay-issues-attribution-rembrandt.html)\\].\n",
    "\n",
    "Imagine Rembrandt's workshop is a sequential production line. The first assistant preps the canvas, the next paints the background and costumes, and finally Rembrandt arrives to fill in the faces and hands. Each of these stages has an increasing value: perfectly completed canvas prep has value $v_1$, background and costumes $v_2$, and faces and hands $v_3$, where $v_1 < v_2 < v_3$. The value of the painting is multiplicative in the value of each stage. That is, after the background and costumes are finished, the value is $v_1\\times v_2$. If the painting gets ruined in one stage, the value of the painting goes to 0.\n",
    "\n",
    "Before starting this problem, you may want to go back to the week 2 lectures and readings to remind yourself of the O-ring production function.\n",
    "\n",
    "**Question 1a.** Let's say one of the assistants successfully prepped the canvas. Now the second assistant is painting the background. What is the lost value if this assistant fails and the canvas is ruined?"
   ]
  },
  {
   "cell_type": "markdown",
   "metadata": {},
   "source": [
    "*Write your solution here*"
   ]
  },
  {
   "cell_type": "markdown",
   "metadata": {},
   "source": [
    "Suppose that Rembrandt ($R$) is working on a painting with his assistants Ferdinand ($F$) and Gerrit ($G$). Ferdinand is brand new to the workshop and Gerrit has been around for many years.\n",
    "\n",
    "The table below shows their skill level on each of the three stages. Their skill level can be interpreted as their probability of successfully completing the stage.\n",
    "\n",
    "|   | Canvas prep (Stage 1) | Background and costumes (Stage 2) |  Face and hands (Stage 3)     |\n",
    "|---|------|------|------|\n",
    "| F | 0.7  | 0.4  | 0.1   |\n",
    "| G | 0.99 | 0.8  | 0.5   |\n",
    "| R | 0.999 | 0.999 | 0.999 |"
   ]
  },
  {
   "cell_type": "markdown",
   "metadata": {},
   "source": [
    "The expected value of the painting after step $n$ follows an O-ring model:\n",
    "\n",
    "$$E[V_n] = \\prod_{i = 1}^n v_{i}q_{i}$$\n",
    "\n",
    "where $v_i$ is the value of stage $i$ and $q_i$ is the skill level on task $i$ of the production line worker who completes that task."
   ]
  },
  {
   "cell_type": "markdown",
   "metadata": {},
   "source": [
    "**Question 1b.** Who is most likely to ruin the canvas when they're trying to prep it? Who is the least likely to mess up canvas prep?"
   ]
  },
  {
   "cell_type": "markdown",
   "metadata": {},
   "source": [
    "*Write your answer here*"
   ]
  },
  {
   "cell_type": "markdown",
   "metadata": {},
   "source": [
    "**Question 1c.** Assume that each person can only complete one task per painting. How would you order the three painters to maximize the probability that the painting is completed? What is the expected value of the painting with this ordering? \n",
    "\n",
    "In this part and the remainder of the problem, assume that there is no negative cost to failure in one stage (e.g. ignore the wasted wages and the cost of raw materials), the value of that painting just goes to 0. Expected values should be in terms of $v_1,v_2,v_3$."
   ]
  },
  {
   "cell_type": "markdown",
   "metadata": {},
   "source": [
    "*Write your answer here*"
   ]
  },
  {
   "cell_type": "markdown",
   "metadata": {},
   "source": [
    "**Question 1d.** Gerrit is sick one day. What is the *loss* in the expected value of a painting if Ferdinand *also* does Gerrit's job from part c, compared to the expected value of a painting in part c?"
   ]
  },
  {
   "cell_type": "markdown",
   "metadata": {},
   "source": [
    "*Write your answer here*"
   ]
  },
  {
   "cell_type": "markdown",
   "metadata": {},
   "source": [
    "**Question 1e.** What is the expected value of a painting if Rembrandt paints the whole thing?"
   ]
  },
  {
   "cell_type": "markdown",
   "metadata": {},
   "source": [
    "*Write your answer here*"
   ]
  },
  {
   "cell_type": "markdown",
   "metadata": {},
   "source": [
    "**Question 1f.** Why wouldn't Rembrandt just do all the work himself? Explain your reasoning with respect to the total value of a finished painting and the painters' skill levels, but there's no need to do calculations. For simplicity, you may assume in this part of the problem that the assistants are unpaid apprentices.\n",
    "\n",
    "*Hint 1:* Assume Rembrandt can produce one painting per day on his own, or up to four paintings with his assistants. To make things simpler, pretend that all paintings take the same amount of time regardless of any failures."
   ]
  },
  {
   "cell_type": "markdown",
   "metadata": {},
   "source": [
    "*Write your answer here*"
   ]
  },
  {
   "cell_type": "markdown",
   "metadata": {},
   "source": [
    "Rembrandt buys a state-of-the-art canvas prep robot that has perfect skill level on prepping the canvas. Ferdinand is thrilled to have an opportunity to paint backgrounds and costumes, so he's willing to work for free. Gerrit is getting tired of working with Rembrandt, and is considering leaving the workshop.\n",
    "\n",
    "**Question 1g.** What is the maximum amount that Rembrandt should pay Gerrit to keep him in the workshop to complete backgrounds and costumes? How does this compare to Gerrit's added value compared to Ferdinand on the second stage without the robot?\n",
    "\n",
    "*Hint:* In part e you calculated the expected loss when Gerrit is sick, you could also interpret that as his *value* on his original task from part c compared to Ferdinand before the robot arrived."
   ]
  },
  {
   "cell_type": "markdown",
   "metadata": {},
   "source": [
    "*Write your answer here*"
   ]
  },
  {
   "cell_type": "markdown",
   "metadata": {},
   "source": [
    "# 2 Prediction or Estimation(/Causation)?\n",
    "\n",
    "In this problem we will review the difference between prediction and estimation problems. **Clarification:** For this question, the week 3 lecture chunks on prediction and causation will be helpful. The terms **estimation** and **causation** can be used interchangably in this question."
   ]
  },
  {
   "cell_type": "markdown",
   "metadata": {},
   "source": [
    "**Question 2a.** Recall the graphical diagram from lecture that is included below. $X$ is the input or covariates that you have access to before making your decision, $X_0$ is the decision, $Y$ is the outcome and $\\pi$ is the payoff. Where should you put an arrow to make this an *estimation* problem and where should you put an arrow to make this a *prediction* problem? \n",
    "\n",
    "![Figure 1](graphicalmodel.png)"
   ]
  },
  {
   "cell_type": "markdown",
   "metadata": {},
   "source": [
    "*Write your solution here (e.g. \"For estimation there should be an arrow from ... to ... \")*"
   ]
  },
  {
   "cell_type": "markdown",
   "metadata": {},
   "source": [
    "**Question 2b.** Problems commonly dealt with in healthcare and emerging technologies can be posed as either prediction or estimation problems. For the following scenarios, classify them as either prediction or estimation problems. Give a brief explanation for each scenario.\n",
    "\n",
    "1) A doctor submits his patients' X-rays to a hospital-contracted ML startup in order to quickly diagnose cancer.\n",
    "\n",
    "2) A big pharmaceutical, Gnntek, starts a randomized trial to measure the effectiveness of their new drug.\n",
    "\n",
    "3) A researcher attempts to find out if smoking cigarettes causes cancer.\n",
    "\n",
    "4) Electronic health records from a hospital are analyzed to see if healthcare-associated infections are more likely in certain areas of the hospital, in order to better allocate infection prevention measures.\n",
    "\n",
    "5) Researchers use a longitudinal study tracking the medical data of 1000 patients to come up with a new set of medical measurements that would better model vital signs and overall health."
   ]
  },
  {
   "cell_type": "markdown",
   "metadata": {},
   "source": [
    "*Write your answer here*"
   ]
  },
  {
   "cell_type": "markdown",
   "metadata": {},
   "source": [
    "**Question 2c.** True or False: The field of machine learning deals mostly with prediction problems, not estimation problems."
   ]
  },
  {
   "cell_type": "markdown",
   "metadata": {},
   "source": [
    "Edit this cell with your response: *True or False?*"
   ]
  },
  {
   "cell_type": "markdown",
   "metadata": {},
   "source": [
    "**Question 2d.** In your own words, what is the main difference between estimation and prediction?"
   ]
  },
  {
   "cell_type": "markdown",
   "metadata": {},
   "source": [
    "*Write your answer here.*"
   ]
  },
  {
   "cell_type": "markdown",
   "metadata": {},
   "source": [
    "## 3 Potential Outcomes Notation\n",
    "\n",
    "In this question we will return to our familiar `framingham` dataset and explore why it's so hard to estimate causal effects in observational data. For this question, you might want to refresh your memory on the potential outcomes framework, covered in the readings and lecture chunks for Week 4."
   ]
  },
  {
   "cell_type": "markdown",
   "metadata": {},
   "source": [
    "**Question 3a** Write a function `get_treatment_effect` that takes in a DataFrame `df` and outputs the average treatment effect based on the `BPMEDS` column. We can express the treatment effect as\n",
    "\n",
    "\n",
    " $$ \\text{bpmeds effect} = \\Big[ \\dfrac{1}{\\# \\text{ of } x_{BPMEDS}=1} \\sum\\limits_{x} x_{SYSBP}|x_{BPMEDS}=1 \\Big]  - \n",
    "\\Big[ \\dfrac{1}{\\# \\text{ of } x_{BPMEDS}=0} \\sum\\limits_{x} x_{SYSBP}|x_{BPMEDS}=0 \\Big]$$\n",
    "\n",
    "Note that this is **not** potential outcomes notation.\n",
    "\n",
    "Then, using the full `fr` DataFrame, attempt to find the treatment effect of blood pressure medication on systolic blood pressure, without conditioning on other variables. Assign `fr_bpmeds_effect` to this treatment effect."
   ]
  },
  {
   "cell_type": "code",
   "execution_count": null,
   "metadata": {},
   "outputs": [],
   "source": [
    "def get_treatment_effect(df):\n",
    "    # Implement this function\n",
    "    pass\n",
    "\n",
    "fr_bpmeds_effect = ... # Assign this variable to the treatment effect in the fr DataFrame"
   ]
  },
  {
   "cell_type": "code",
   "execution_count": null,
   "metadata": {},
   "outputs": [],
   "source": [
    "_ = ok.grade('q3a');"
   ]
  },
  {
   "cell_type": "markdown",
   "metadata": {},
   "source": [
    "**Question 3b** In one sentence, interpret the `fr_bpmeds_effect` you found."
   ]
  },
  {
   "cell_type": "markdown",
   "metadata": {},
   "source": [
    "*Write your interpretation here.*"
   ]
  },
  {
   "cell_type": "markdown",
   "metadata": {},
   "source": [
    "**Question 3c** Does this treatment effect make sense given what you know about the intended effect of blood pressure medication? If not, why do you think you observe this effect?"
   ]
  },
  {
   "cell_type": "markdown",
   "metadata": {},
   "source": [
    "*Write your answer here*"
   ]
  },
  {
   "cell_type": "markdown",
   "metadata": {},
   "source": [
    "**Question 3d** As we learned in lecture, we denote the observed treatment effect as $Y_{1,D=1} - Y_{0, D=0}$. Using potential outcomes notation, expand this expression to include four terms and explain how this expanded expression gives us more insight into your answer to part c.\n",
    "\n",
    "*Hint:* What are the two *conflating factors* that might lead us to observe an unexpected treatment effect?\n",
    "\n",
    "*Correction/clarification:* In this problem $D$ refers to whether the person is treated or untreated. This is equivalent to $X_0$ in recent lectures. Also, you can imagine these variables are for one individual, or in expectation over all individuals (i.e. no need to worry about subscript $i$)."
   ]
  },
  {
   "cell_type": "markdown",
   "metadata": {},
   "source": [
    "$$Y_{1,D = 1} - Y_{0, D= 0} = ...$$\n",
    "\n",
    "*Write your explanation here.*"
   ]
  },
  {
   "cell_type": "markdown",
   "metadata": {},
   "source": [
    "**Question 3e** In your own words, what does $Y_{1,D=0}$ represent?"
   ]
  },
  {
   "cell_type": "markdown",
   "metadata": {},
   "source": [
    "*Write your answer here.*"
   ]
  },
  {
   "cell_type": "markdown",
   "metadata": {},
   "source": [
    "**Question 3f** Let's try conditioning on additional features using the same method. We'll condition on `DIABETES` and `CURSMOKE` by only looking at people who have diabetes and are current smokers. Calculate the overall treatment effect as you did in Question 2a and assign it to `conditioned_meds_effect`, by taking the difference in mean `SYSBP` between those on medication and those who are not."
   ]
  },
  {
   "cell_type": "code",
   "execution_count": null,
   "metadata": {},
   "outputs": [],
   "source": [
    "conditioned = ... # Create a new DataFrame from fr that only includes people who have diabetes and are current smokers\n",
    "conditioned_meds_effect = ... # Hint: use your function from 2a"
   ]
  },
  {
   "cell_type": "code",
   "execution_count": null,
   "metadata": {},
   "outputs": [],
   "source": [
    "_ = ok.grade('q3f');"
   ]
  },
  {
   "cell_type": "markdown",
   "metadata": {},
   "source": [
    "Notice that even when we control for additional variables, the sign of the treatment effect does not change.\n",
    "\n",
    "Now, suppose Sam synthesizes a new drug, Ziadopril, that lowers systolic BP. As a doctor, you want to help your patients with high BP, so you prescribe Ziadopril to all of your patients with hypertension (SYSBP above 140). Dr. Obermeyer claims that the drug is effective, but you want to confirm by measuring the treatment effect on your own patients*:\n",
    "\n",
    "***Disclaimer: This study clearly has ethical issues. Please don't try this while practicing medicine.**"
   ]
  },
  {
   "cell_type": "code",
   "execution_count": null,
   "metadata": {},
   "outputs": [],
   "source": [
    "# Run this cell\n",
    "with_zp, without_zp = fr[fr[\"SYSBP\"] > 140], fr[fr[\"SYSBP\"] <= 140]\n",
    "with_zp_sysbp = with_zp[\"SYSBP\"].apply(ziadopril)\n",
    "np.mean(with_zp_sysbp) - np.mean(without_zp[\"SYSBP\"])"
   ]
  },
  {
   "cell_type": "markdown",
   "metadata": {},
   "source": [
    "We see a similar trend in the treatment effect as we did in the previous parts.\n",
    "\n",
    "**Question 3g**  Dr. Obermeyer insists that his drug really works. At his request, you agree to take another look. Design a new study that allows you to correctly find the treatment effect of Ziadopril. Find the treatment effect and assign it to the variable `ziadopril_effect`. The function `ziadopril` takes a systolic BP value and returns the new systolic BP after treatment.\n",
    "\n",
    "*Hint 1:* To choose your treatment group, the <a href=\"https://docs.python.org/3/library/random.html#random.sample\">`random.sample`</a> function could be useful.\n",
    "\n",
    "*Hint 2:* In homework 0 we learned that you can select rows using `.loc[]`. For example, to select rows 1, 40, and 300, we can use `fr.loc[[1,40,300],:]`. Another way to do this is to use `fr.index.isin([1,40,300])` to filter rows (e.g. like we did to filter to age groups in homework 0). Try running the following cell:"
   ]
  },
  {
   "cell_type": "code",
   "execution_count": null,
   "metadata": {},
   "outputs": [],
   "source": [
    "fr[fr.index.isin([1, 40, 300])]"
   ]
  },
  {
   "cell_type": "markdown",
   "metadata": {},
   "source": [
    "Make sure you understand how this code works. How could you modify the line of code above to get all of the rows **except** rows 1, 40, and 300? You might find this example code useful for splitting your data into a treatment group who will receive Ziadopril and a group who will not."
   ]
  },
  {
   "cell_type": "code",
   "execution_count": null,
   "metadata": {},
   "outputs": [],
   "source": [
    "# Design your experiment and apply the ziadopril function to your treatment group \n",
    "# Look two cells up for example code showing how to apply the treatment using .apply()\n",
    "ziadopril_effect = ... # calculate treatment effect\n",
    "ziadopril_effect"
   ]
  },
  {
   "cell_type": "code",
   "execution_count": null,
   "metadata": {},
   "outputs": [],
   "source": [
    "_ = ok.grade(\"q3g\")"
   ]
  },
  {
   "cell_type": "markdown",
   "metadata": {},
   "source": [
    "# 4 Split it up\n",
    "\n",
    "In this problem and the next one, we'll gain some intuition about why we would want to split our data randomly into smaller datasets when we're fitting machine learning models.\n",
    "\n",
    "**Question 4a** Let's strip down some unnecessary columns and clean the rest of the `fr` DataFrame. Assign `fr_clean` to a DataFrame that:\n",
    "\n",
    "- Contains the columns in the `columns` list we have provided.\n",
    "- Drops any rows that contain a missing value in one of the columns in `drop_cols`.\n",
    "- For the remaining columns, fill any missing values with the mean of that column.\n",
    "\n",
    "*Hint:* The Pandas function `fillna()` will be helpful.\n",
    "\n",
    "*Correction/clarification:* We should actually fill the NAs with the mean *after* splitting the data. Can you think of why this is? **For this problem, please follow the original instructions for consistency,** but we will include an explanation and correction in the solutions."
   ]
  },
  {
   "cell_type": "code",
   "execution_count": null,
   "metadata": {},
   "outputs": [],
   "source": [
    "columns =  ['DIABP', 'GLUCOSE', 'AGE', 'SEX', 'CURSMOKE', 'HEARTRTE', 'BMI', 'TOTCHOL', 'CVD']\n",
    "drop_cols = ['DIABP', 'AGE',  'SEX', 'CURSMOKE', 'BMI', 'TOTCHOL', 'CVD']\n",
    "\n",
    "fr_clean = ...\n",
    "# Your code may need multiple lines\n",
    "\n",
    "print(len(fr_clean))\n",
    "fr_clean.head()"
   ]
  },
  {
   "cell_type": "code",
   "execution_count": null,
   "metadata": {},
   "outputs": [],
   "source": [
    "_ = ok.grade('q4a');"
   ]
  },
  {
   "cell_type": "markdown",
   "metadata": {},
   "source": [
    "**Question 4b** Now, we'll randomly split our data into two DataFrames, `fr_one` and `fr_two`. Write a function `split_dataset` that takes in a DataFrame `df` and a float `prop`. It should return two datasets, where the first dataset contains a **random** `prop` percent of the data. For example, if `prop=0.8`, then the first dataset should contain a random 80% of the rows in `df` and the second dataset should contain the other 20%.\n",
    "\n",
    "Using the function you just wrote, split the `fr_clean` DataFrame with `prop = 0.8` into `fr_one` (with 80% of the data) and `fr_two` (with 20%).\n",
    "\n",
    "*Hint 1:* You can use `random.sample()` to create a list of indices to include in `fr_one`. What are the indices to include in `fr_two`?\n",
    "\n",
    "*Hint 2:* Once you've chosen your indices, you will want to use `df[df.index.isin(...)]` as we showed above, or `df.iloc[...]` to select rows to include in `fr_one` and `fr_two`."
   ]
  },
  {
   "cell_type": "code",
   "execution_count": null,
   "metadata": {},
   "outputs": [],
   "source": [
    "random.seed(199) # Don't delete this line - it's intended to get your split to match up with the solution\n",
    "def split_dataset(df, prop):\n",
    "    # You should complete this function.\n",
    "    # df - a DataFrame you want to split\n",
    "    # prop - the proportion of data in df to go in the first dataset\n",
    "    # Return: df_1, df_2 - df split into two DataFrames with prop proportion in df_1\n",
    "    pass\n",
    "\n",
    "fr_one, fr_two = ...\n",
    "len(fr_one), len(fr_two)"
   ]
  },
  {
   "cell_type": "code",
   "execution_count": null,
   "metadata": {},
   "outputs": [],
   "source": [
    "_ = ok.grade('q4b');"
   ]
  },
  {
   "cell_type": "markdown",
   "metadata": {},
   "source": [
    "**Question 4c** What can you say about the distributions of these two datasets?"
   ]
  },
  {
   "cell_type": "markdown",
   "metadata": {},
   "source": [
    "*Write your answer here*"
   ]
  },
  {
   "cell_type": "markdown",
   "metadata": {},
   "source": [
    "**Question 4d.** Write a function `plot_dist` that takes a variable (column name) and two DataFrames and returns a double overlayed histogram showing the distribution of that variable in each dataset. Remember to use `density = True`.\n",
    "\n",
    "*Hint 1:* You can go back to Homework 0 to see how to create a double overlayed histogram. The problem is a bit different because instead of plotting one histogram for each subset of a DataFrame, you want to plot one histogram for each DataFrame.\n",
    "\n",
    "*Hint 2:* You can write a function that returns a plot by assigning your first `plt.hist()` call to a variable. The starter code does this for you!"
   ]
  },
  {
   "cell_type": "code",
   "execution_count": null,
   "metadata": {},
   "outputs": [],
   "source": [
    "def plot_dist(column, df_1, df_2):\n",
    "    plot = plt.hist(...)\n",
    "    plt.hist(...)\n",
    "    # Fill in anything else you want to add to your plot\n",
    "    return plot"
   ]
  },
  {
   "cell_type": "markdown",
   "metadata": {},
   "source": [
    "**Question 4e** Choose two variables and use your `plot_dist()` function to plot the distribution of those variables in `fr_one` and `fr_two`. The cell below shows you how to use your function to create and display a plot.\n",
    "\n",
    "What can you say about your plots? Do they line up with your answer to 4c?"
   ]
  },
  {
   "cell_type": "code",
   "execution_count": null,
   "metadata": {},
   "outputs": [],
   "source": [
    "# Fill this in, then duplicate the cell for your second plot\n",
    "plot = plot_dist(...)\n",
    "plt.show()"
   ]
  },
  {
   "cell_type": "markdown",
   "metadata": {},
   "source": [
    "*Write your answer in this cell*"
   ]
  },
  {
   "cell_type": "markdown",
   "metadata": {},
   "source": [
    "# 5 Signal or Noise?\n",
    "\n",
    "Our goal in this question to create a linear regression model that will predict cardiovascular disease (`CVD`) using some of the variables in our data. This problem will start to get you thinking about how to choose the best model for your particular task and data, and how you might improve your model's performance.\n",
    "\n",
    "In homework 0, you wrote a function `fit_lm`, which took one feature and an outcome and fit a linear model with one feature. In this question, you'll use this function to fit and evaluate models with different numbers of predictors. In the cell below, we've given you the function from homework 0. "
   ]
  },
  {
   "cell_type": "code",
   "execution_count": null,
   "metadata": {},
   "outputs": [],
   "source": [
    "# run this cell\n",
    "from sklearn.linear_model import LinearRegression\n",
    "\n",
    "def fit_lm(features, outcome):\n",
    "    assert type(features) == pd.DataFrame\n",
    "    assert type(outcome) in (pd.Series, np.array)\n",
    "    \n",
    "    model = LinearRegression()\n",
    "    model.fit(features, outcome)\n",
    "    return model"
   ]
  },
  {
   "cell_type": "markdown",
   "metadata": {},
   "source": [
    "**Question 5a.** Use the `fit_lm` function to create a list of linear models with the outcome variable `CVD`. You should fit the models using the `fr_one` dataset you created in question 4. \n",
    "\n",
    "The list `feature_names` below tells you what features to use as predictors in each model. Your first model should include only the first feature, `DIABP`. The second should use `DIABP` and `GLUCOSE`, the third will use `DIABP`, `GLUCOSE`, and `AGE`, ..., until you have included all of the features in the `feature_names` list."
   ]
  },
  {
   "cell_type": "code",
   "execution_count": null,
   "metadata": {},
   "outputs": [],
   "source": [
    "feature_names = ['DIABP', 'GLUCOSE', 'AGE', 'SEX', 'CURSMOKE', 'HEARTRTE', 'BMI', 'TOTCHOL']\n",
    "models = [] # You should create 8 different linear models and store them in this list"
   ]
  },
  {
   "cell_type": "code",
   "execution_count": null,
   "metadata": {},
   "outputs": [],
   "source": [
    "_ = ok.grade('q5a')"
   ]
  },
  {
   "cell_type": "markdown",
   "metadata": {},
   "source": [
    "**Question 5b.** Next, fill in the function `get_accuracy(features, outcome, model)` below. The function takes `features` and `outcome` just like the `fit_lm` function, and it also takes a `model`, which should be the output of a call to `fit_lm`. Your function should use the `model` to make predictions of the `outcome` based on the `features`. The function should return the *accuracy* of the model, which is the proportion of observations where the prediction is correct.\n",
    "\n",
    "The models you just created will make *continuous* predictions, but `CVD` is a binary outcome variable. In order to get binary classifications we can pick a threshold, say 0.5, and say our model predicts `CVD = 1` if the prediction is greater than 0.5, otherwise it predicts `CVD = 0`. Use a 0.5 threshold in your `get_accuracy` function.\n",
    "\n",
    "*Hint:* Your function will need to call the `model.predict()` function."
   ]
  },
  {
   "cell_type": "code",
   "execution_count": null,
   "metadata": {},
   "outputs": [],
   "source": [
    "def get_accuracy(features, outcome, model):\n",
    "    assert type(features) == pd.DataFrame\n",
    "    assert type(outcome) in (pd.Series, np.array)\n",
    "    \n",
    "    # Fill this in\n",
    "    # Use model to get PREDICTIONS of the outcome based on the features\n",
    "    # Calculate and return the ACCURACY of those predictions compared to the true outcome\n",
    "    pass"
   ]
  },
  {
   "cell_type": "code",
   "execution_count": null,
   "metadata": {},
   "outputs": [],
   "source": [
    "_ = ok.grade('q5b');"
   ]
  },
  {
   "cell_type": "markdown",
   "metadata": {},
   "source": [
    "**Questino 5c.** Use your `get_accuracy` function to find the accuracy of the predictions from each model in the `models` list **on `fr_one`** (i.e. the *same data the model was fit on*). Make a plot with the number of features in the model on the x-axis and the model accuracy on the y-axis. Don't forget axis labels and a title!"
   ]
  },
  {
   "cell_type": "code",
   "execution_count": null,
   "metadata": {},
   "outputs": [],
   "source": [
    "# Fill in this cell with your solution"
   ]
  },
  {
   "cell_type": "markdown",
   "metadata": {},
   "source": [
    "**Question 5d.** Based on your plot above, which model do you think is the best for predicting CVD?"
   ]
  },
  {
   "cell_type": "markdown",
   "metadata": {},
   "source": [
    "*Write your answer here*"
   ]
  },
  {
   "cell_type": "markdown",
   "metadata": {},
   "source": [
    "**Question 5e.** Now, use your `get_accuracy` function again to find the accuracy of your models, **this time using `fr_two`**. Make another plot like the one in c, but with the accuracy of each model both for predicting `CVD` in `fr_one` and in `fr_two` (your plot should have two lines). Make sure to add a legend with appropriate labels."
   ]
  },
  {
   "cell_type": "code",
   "execution_count": null,
   "metadata": {},
   "outputs": [],
   "source": [
    "# Fill in your solution here"
   ]
  },
  {
   "cell_type": "markdown",
   "metadata": {},
   "source": [
    "**Question 5f.** Interpret your plot in part e. Did the best model from part d also have good accuracy on `fr_two`? What do we care about more, how well the model does on `fr_one` or how well it does on `fr_two`, and why?\n",
    "\n",
    "*Hint:* What is *good* accuracy? We always need a baseline to compare our models' performance to. Come up with the simplest classifier you can think of for this data, what would its accuracy be?"
   ]
  },
  {
   "cell_type": "markdown",
   "metadata": {},
   "source": [
    "*Write your answer here*"
   ]
  },
  {
   "cell_type": "markdown",
   "metadata": {},
   "source": [
    "In the week 5 lecture chunks, we learned about the ROC curve, which tells us a bit more about a classifier than accuracy.\n",
    "\n",
    "**Question 5g.** Explain, in your own words, what each point on an ROC curve represents. There are two points that every ROC curve goes through. What are those points and why are they always on the ROC curve?"
   ]
  },
  {
   "cell_type": "markdown",
   "metadata": {},
   "source": [
    "*Write your answer here.*"
   ]
  },
  {
   "cell_type": "markdown",
   "metadata": {},
   "source": [
    "**Question 5h.** Fill in the function `get_roc(features, outcome, model)` below. It should be similar to the `get_accuracy` function you wrote earlier, but this time you should return three things: an array of thresholds, an array of False Positive Rates (FPR), and an array of True Positive Rates (TPR).\n",
    "\n",
    "You should use `np.linspace()` to generate 100 evenly spaced threshold values. (Think carefully about what the minimum and maximum thresholds should be.)"
   ]
  },
  {
   "cell_type": "code",
   "execution_count": null,
   "metadata": {},
   "outputs": [],
   "source": [
    "def get_roc(features, outcome, model):\n",
    "    assert type(features) == pd.DataFrame\n",
    "    assert type(outcome) in (pd.Series, np.array)\n",
    "    \n",
    "    predictions = ... \n",
    "    thresholds = np.linspace(..., ..., 100)\n",
    "    fprs, tprs = [],[]\n",
    "    \n",
    "    for t in thresholds:\n",
    "        y_hat = ... # Use the predictions and threshold to get classifications\n",
    "        fpr = ...\n",
    "        tpr = ...\n",
    "        fprs.append(fpr)\n",
    "        tprs.append(tpr)\n",
    "        \n",
    "    return fprs, tprs, thresholds"
   ]
  },
  {
   "cell_type": "code",
   "execution_count": null,
   "metadata": {},
   "outputs": [],
   "source": [
    "_ = ok.grade('q5h')"
   ]
  },
  {
   "cell_type": "markdown",
   "metadata": {},
   "source": [
    "**Question 5i.** Use your `get_roc` function to plot an ROC curve for your favorite model from `models`, evaluated on `fr_two`. Add a red point to your graph showing where the classifier with threshold $\\approx 0.5$ is on the ROC curve."
   ]
  },
  {
   "cell_type": "code",
   "execution_count": null,
   "metadata": {},
   "outputs": [],
   "source": [
    "fpr, tpr, thresholds = get_roc(...)\n",
    "\n",
    "# Find the threshold closest to 0.5\n",
    "\n",
    "# Plot the ROC curve\n",
    "plt.plot(..., ..)\n",
    "plt.scatter(..., ..., color = \"red\", label = \"threshold = 0.5\") # Use this to plot the classifier with t = 0.5\n",
    "# Add labels, title, and a legend\n",
    "plt.show()"
   ]
  },
  {
   "cell_type": "markdown",
   "metadata": {},
   "source": [
    "**Question 5j.** Was 0.5 a good choice of threshold in this problem? Explain your answer."
   ]
  },
  {
   "cell_type": "markdown",
   "metadata": {},
   "source": [
    "*Write your answer here*"
   ]
  },
  {
   "cell_type": "markdown",
   "metadata": {},
   "source": [
    "**Question 5k.** What are some changes we could make to the data or to our models to improve performance? (There are many possible answers to this question, one suggestion is enough.)"
   ]
  },
  {
   "cell_type": "markdown",
   "metadata": {},
   "source": [
    "*Write your answer here.*"
   ]
  },
  {
   "cell_type": "markdown",
   "metadata": {},
   "source": [
    "**Extra credit: Question 5l** If you would like to, explore some strategies to come up with a better model. You're free to explore here and do as much or as little as you would like. Insightful findings or comments can earn up to 2 extra credit points."
   ]
  },
  {
   "cell_type": "markdown",
   "metadata": {},
   "source": [
    "## Submission\n",
    "Congrats, you're done with the homework! \n",
    "\n",
    "- Once you're finished, double check that you've run all of your cells and the output is showing. \n",
    "- Select \"Save and Checkpoint\" in the File menu, then go to Download as and download your notebook as PDF via LaTeX or download your notebook as HTML and then convert the HTML to PDF using a tool of your choice.\n",
    "- Upload your pdf to Gradescope and tag all of the pages with the corresponding questions. If your response to a question is over multiple pages, please tag *all* of the pages with any part of your response on it. If you submit more than once before the deadline, we will only grade your final submission. "
   ]
  }
 ],
 "metadata": {
  "kernelspec": {
   "display_name": "Python 3",
   "language": "python",
   "name": "python3"
  },
  "language_info": {
   "codemirror_mode": {
    "name": "ipython",
    "version": 3
   },
   "file_extension": ".py",
   "mimetype": "text/x-python",
   "name": "python",
   "nbconvert_exporter": "python",
   "pygments_lexer": "ipython3",
   "version": "3.8.5"
  }
 },
 "nbformat": 4,
 "nbformat_minor": 2
}
